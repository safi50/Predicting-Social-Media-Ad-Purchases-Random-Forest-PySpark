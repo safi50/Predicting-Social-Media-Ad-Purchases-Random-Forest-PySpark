{
  "nbformat": 4,
  "nbformat_minor": 0,
  "metadata": {
    "colab": {
      "provenance": [],
      "authorship_tag": "ABX9TyPFxihraJ/8dvj0XfBog0OL",
      "include_colab_link": true
    },
    "kernelspec": {
      "name": "python3",
      "display_name": "Python 3"
    },
    "language_info": {
      "name": "python"
    }
  },
  "cells": [
    {
      "cell_type": "markdown",
      "metadata": {
        "id": "view-in-github",
        "colab_type": "text"
      },
      "source": [
        "<a href=\"https://colab.research.google.com/github/safi50/Social-Media-Ad-Purchases-PySpark/blob/main/Predicting_Social_Media_Ad_Purchases_Using_PySpark.ipynb\" target=\"_parent\"><img src=\"https://colab.research.google.com/assets/colab-badge.svg\" alt=\"Open In Colab\"/></a>"
      ]
    },
    {
      "cell_type": "code",
      "execution_count": 136,
      "metadata": {
        "id": "7dNeUYsKTLDA"
      },
      "outputs": [],
      "source": [
        "# !pip install pyspark"
      ]
    },
    {
      "cell_type": "code",
      "source": [
        "import pyspark\n",
        "from pyspark.sql import SparkSession\n",
        "from pyspark.ml import Pipeline\n",
        "from pyspark.ml.feature import *\n",
        "from pyspark.ml.feature import VectorAssembler, StringIndexer, VectorIndexer\n",
        "from pyspark.ml.feature import MinMaxScaler, IndexToString\n",
        "from pyspark.ml.classification import DecisionTreeClassifier, RandomForestClassifier\n",
        "from pyspark.ml.evaluation import MulticlassClassificationEvaluator\n",
        "\n",
        "\n"
      ],
      "metadata": {
        "id": "RJgvlbTmTtur"
      },
      "execution_count": 137,
      "outputs": []
    },
    {
      "cell_type": "markdown",
      "source": [
        "## Initialize and Start a Spark Session"
      ],
      "metadata": {
        "id": "KPHBpf6Mj783"
      }
    },
    {
      "cell_type": "code",
      "source": [
        "spark = SparkSession.builder.appName('Social Network Ads').getOrCreate()"
      ],
      "metadata": {
        "id": "0Iv53lp2XZdm"
      },
      "execution_count": 138,
      "outputs": []
    },
    {
      "cell_type": "markdown",
      "source": [
        "## Reading Data from CSV"
      ],
      "metadata": {
        "id": "OVm2D2GFj_FF"
      }
    },
    {
      "cell_type": "code",
      "source": [
        "data = spark.read.csv('Social_Network_Ads.csv', header=True, inferSchema=True)"
      ],
      "metadata": {
        "id": "vBkD-2qPUWn5"
      },
      "execution_count": 139,
      "outputs": []
    },
    {
      "cell_type": "code",
      "source": [
        "data.show()"
      ],
      "metadata": {
        "colab": {
          "base_uri": "https://localhost:8080/"
        },
        "id": "sJo9-TqbVASj",
        "outputId": "9dc96849-9cc5-48f5-ec89-cd97fb9c4db0"
      },
      "execution_count": 140,
      "outputs": [
        {
          "output_type": "stream",
          "name": "stdout",
          "text": [
            "+--------+------+---+---------------+---------+\n",
            "| User ID|Gender|Age|EstimatedSalary|Purchased|\n",
            "+--------+------+---+---------------+---------+\n",
            "|15624510|  Male| 19|          19000|        0|\n",
            "|15810944|  Male| 35|          20000|        0|\n",
            "|15668575|Female| 26|          43000|        0|\n",
            "|15603246|Female| 27|          57000|        0|\n",
            "|15804002|  Male| 19|          76000|        0|\n",
            "|15728773|  Male| 27|          58000|        0|\n",
            "|15598044|Female| 27|          84000|        0|\n",
            "|15694829|Female| 32|         150000|        1|\n",
            "|15600575|  Male| 25|          33000|        0|\n",
            "|15727311|Female| 35|          65000|        0|\n",
            "|15570769|Female| 26|          80000|        0|\n",
            "|15606274|Female| 26|          52000|        0|\n",
            "|15746139|  Male| 20|          86000|        0|\n",
            "|15704987|  Male| 32|          18000|        0|\n",
            "|15628972|  Male| 18|          82000|        0|\n",
            "|15697686|  Male| 29|          80000|        0|\n",
            "|15733883|  Male| 47|          25000|        1|\n",
            "|15617482|  Male| 45|          26000|        1|\n",
            "|15704583|  Male| 46|          28000|        1|\n",
            "|15621083|Female| 48|          29000|        1|\n",
            "+--------+------+---+---------------+---------+\n",
            "only showing top 20 rows\n",
            "\n"
          ]
        }
      ]
    },
    {
      "cell_type": "code",
      "source": [
        "# length of data\n",
        "data.count()"
      ],
      "metadata": {
        "colab": {
          "base_uri": "https://localhost:8080/"
        },
        "id": "aH58F-SGVrUE",
        "outputId": "440b34d6-246e-43ff-fd18-7d1f05a25c30"
      },
      "execution_count": 141,
      "outputs": [
        {
          "output_type": "execute_result",
          "data": {
            "text/plain": [
              "400"
            ]
          },
          "metadata": {},
          "execution_count": 141
        }
      ]
    },
    {
      "cell_type": "markdown",
      "source": [
        "## Vectorizing Input and Output Features for faster Computing"
      ],
      "metadata": {
        "id": "XccejesmkCMy"
      }
    },
    {
      "cell_type": "code",
      "source": [
        "vectorizer = VectorAssembler()\n",
        "vectorizer.setInputCols(['Age', 'EstimatedSalary'])\n",
        "vectorizer.setOutputCol('features')\n",
        "\n",
        "data = vectorizer.transform(data)\n",
        "data.show(10, False)"
      ],
      "metadata": {
        "colab": {
          "base_uri": "https://localhost:8080/"
        },
        "id": "moJ4t5qSV-nQ",
        "outputId": "fb7dbded-247d-4f9d-8d3c-b01b85768336"
      },
      "execution_count": 142,
      "outputs": [
        {
          "output_type": "stream",
          "name": "stdout",
          "text": [
            "+--------+------+---+---------------+---------+---------------+\n",
            "|User ID |Gender|Age|EstimatedSalary|Purchased|features       |\n",
            "+--------+------+---+---------------+---------+---------------+\n",
            "|15624510|Male  |19 |19000          |0        |[19.0,19000.0] |\n",
            "|15810944|Male  |35 |20000          |0        |[35.0,20000.0] |\n",
            "|15668575|Female|26 |43000          |0        |[26.0,43000.0] |\n",
            "|15603246|Female|27 |57000          |0        |[27.0,57000.0] |\n",
            "|15804002|Male  |19 |76000          |0        |[19.0,76000.0] |\n",
            "|15728773|Male  |27 |58000          |0        |[27.0,58000.0] |\n",
            "|15598044|Female|27 |84000          |0        |[27.0,84000.0] |\n",
            "|15694829|Female|32 |150000         |1        |[32.0,150000.0]|\n",
            "|15600575|Male  |25 |33000          |0        |[25.0,33000.0] |\n",
            "|15727311|Female|35 |65000          |0        |[35.0,65000.0] |\n",
            "+--------+------+---+---------------+---------+---------------+\n",
            "only showing top 10 rows\n",
            "\n"
          ]
        }
      ]
    },
    {
      "cell_type": "markdown",
      "source": [
        "## Normalizing Features"
      ],
      "metadata": {
        "id": "wRzajbgOkHab"
      }
    },
    {
      "cell_type": "code",
      "source": [
        "scaler = MinMaxScaler(inputCol='features', outputCol='scaledFeatures')\n",
        "scalerModel = scaler.fit(data)\n",
        "data = scalerModel.transform(data)\n",
        "data.show(10, False)\n"
      ],
      "metadata": {
        "colab": {
          "base_uri": "https://localhost:8080/"
        },
        "id": "J7fq1kDAWfcy",
        "outputId": "84244885-093f-4488-d630-54808afb8436"
      },
      "execution_count": 143,
      "outputs": [
        {
          "output_type": "stream",
          "name": "stdout",
          "text": [
            "+--------+------+---+---------------+---------+---------------+------------------------------------------+\n",
            "|User ID |Gender|Age|EstimatedSalary|Purchased|features       |scaledFeatures                            |\n",
            "+--------+------+---+---------------+---------+---------------+------------------------------------------+\n",
            "|15624510|Male  |19 |19000          |0        |[19.0,19000.0] |[0.023809523809523808,0.02962962962962963]|\n",
            "|15810944|Male  |35 |20000          |0        |[35.0,20000.0] |[0.40476190476190477,0.037037037037037035]|\n",
            "|15668575|Female|26 |43000          |0        |[26.0,43000.0] |[0.19047619047619047,0.2074074074074074]  |\n",
            "|15603246|Female|27 |57000          |0        |[27.0,57000.0] |[0.21428571428571427,0.3111111111111111]  |\n",
            "|15804002|Male  |19 |76000          |0        |[19.0,76000.0] |[0.023809523809523808,0.45185185185185184]|\n",
            "|15728773|Male  |27 |58000          |0        |[27.0,58000.0] |[0.21428571428571427,0.31851851851851853] |\n",
            "|15598044|Female|27 |84000          |0        |[27.0,84000.0] |[0.21428571428571427,0.5111111111111111]  |\n",
            "|15694829|Female|32 |150000         |1        |[32.0,150000.0]|[0.3333333333333333,1.0]                  |\n",
            "|15600575|Male  |25 |33000          |0        |[25.0,33000.0] |[0.16666666666666666,0.13333333333333333] |\n",
            "|15727311|Female|35 |65000          |0        |[35.0,65000.0] |[0.40476190476190477,0.37037037037037035] |\n",
            "+--------+------+---+---------------+---------+---------------+------------------------------------------+\n",
            "only showing top 10 rows\n",
            "\n"
          ]
        }
      ]
    },
    {
      "cell_type": "markdown",
      "source": [
        "## Indexing Input and Output Features for faster computing"
      ],
      "metadata": {
        "id": "POzVqo0SkM-9"
      }
    },
    {
      "cell_type": "code",
      "source": [
        "labelIndexer = StringIndexer(inputCol='Purchased', outputCol='indexedLabel')\n",
        "featureIndexer = VectorIndexer(inputCol='scaledFeatures', outputCol='indexedFeatures', maxCategories=4)"
      ],
      "metadata": {
        "id": "CC3g5C0AXcu-"
      },
      "execution_count": 144,
      "outputs": []
    },
    {
      "cell_type": "code",
      "source": [
        "(train_set, test_set) = data.randomSplit([0.8, 0.2])"
      ],
      "metadata": {
        "id": "W-xl4fJDZMOs"
      },
      "execution_count": 145,
      "outputs": []
    },
    {
      "cell_type": "markdown",
      "source": [
        "# 1. Classification Using Decision Trees"
      ],
      "metadata": {
        "id": "WZCXVxuodz7Z"
      }
    },
    {
      "cell_type": "code",
      "source": [
        "decision_tree = DecisionTreeClassifier(labelCol='indexedLabel', featuresCol='indexedFeatures')"
      ],
      "metadata": {
        "id": "tZ6KQXu0ZrNy"
      },
      "execution_count": 146,
      "outputs": []
    },
    {
      "cell_type": "code",
      "source": [
        "dt_pipeline = Pipeline(stages=[labelIndexer, featureIndexer, decision_tree])"
      ],
      "metadata": {
        "id": "dudvz-I1ZzIQ"
      },
      "execution_count": 147,
      "outputs": []
    },
    {
      "cell_type": "code",
      "source": [
        "decisionTreeModel = dt_pipeline.fit(train_set)"
      ],
      "metadata": {
        "id": "oe114ly1Z6Mr"
      },
      "execution_count": 148,
      "outputs": []
    },
    {
      "cell_type": "markdown",
      "source": [
        "## Decision Tree Model Evaluation"
      ],
      "metadata": {
        "id": "VPyyPCXXbDrO"
      }
    },
    {
      "cell_type": "code",
      "source": [
        "dt_preds = decisionTreeModel.transform(test_set)"
      ],
      "metadata": {
        "id": "jim8mm1-bI6y"
      },
      "execution_count": 149,
      "outputs": []
    },
    {
      "cell_type": "code",
      "source": [
        "dt_preds.select( 'Age', 'EstimatedSalary','Purchased', 'prediction').show(10, False)"
      ],
      "metadata": {
        "colab": {
          "base_uri": "https://localhost:8080/"
        },
        "id": "HD4SckvpbOvq",
        "outputId": "69090a05-141d-4fe2-c065-8665b693b95d"
      },
      "execution_count": 150,
      "outputs": [
        {
          "output_type": "stream",
          "name": "stdout",
          "text": [
            "+---+---------------+---------+----------+\n",
            "|Age|EstimatedSalary|Purchased|prediction|\n",
            "+---+---------------+---------+----------+\n",
            "|58 |95000          |1        |1.0       |\n",
            "|40 |71000          |1        |0.0       |\n",
            "|48 |131000         |1        |1.0       |\n",
            "|35 |73000          |0        |0.0       |\n",
            "|23 |63000          |0        |0.0       |\n",
            "|37 |74000          |0        |0.0       |\n",
            "|42 |90000          |1        |1.0       |\n",
            "|53 |104000         |1        |1.0       |\n",
            "|48 |119000         |1        |1.0       |\n",
            "|28 |59000          |0        |0.0       |\n",
            "+---+---------------+---------+----------+\n",
            "only showing top 10 rows\n",
            "\n"
          ]
        }
      ]
    },
    {
      "cell_type": "code",
      "source": [
        "eval = MulticlassClassificationEvaluator(labelCol='indexedLabel', predictionCol='prediction', metricName='accuracy')\n",
        "acc = eval.evaluate(dt_preds)\n",
        "print('Accuracy: ', acc)\n"
      ],
      "metadata": {
        "colab": {
          "base_uri": "https://localhost:8080/"
        },
        "id": "YeBeusXOb0Wc",
        "outputId": "a7b9984c-e347-4785-985d-8ee69d95792e"
      },
      "execution_count": 151,
      "outputs": [
        {
          "output_type": "stream",
          "name": "stdout",
          "text": [
            "Accuracy:  0.9047619047619048\n"
          ]
        }
      ]
    },
    {
      "cell_type": "code",
      "source": [
        "treeModel = decisionTreeModel.stages[2]\n",
        "print(treeModel)"
      ],
      "metadata": {
        "colab": {
          "base_uri": "https://localhost:8080/"
        },
        "id": "wUBT--ohcT0y",
        "outputId": "7cf752f7-e01f-4404-e2e7-6d5a26dd1337"
      },
      "execution_count": 152,
      "outputs": [
        {
          "output_type": "stream",
          "name": "stdout",
          "text": [
            "DecisionTreeClassificationModel: uid=DecisionTreeClassifier_881c04f627b6, depth=5, numNodes=35, numClasses=2, numFeatures=2\n"
          ]
        }
      ]
    },
    {
      "cell_type": "code",
      "source": [
        "dt_preds.groupBy('Purchased', 'prediction').count().show()"
      ],
      "metadata": {
        "colab": {
          "base_uri": "https://localhost:8080/"
        },
        "id": "db45sfGCchrR",
        "outputId": "f552f1a2-5ab4-4f11-b3c0-17b5cc46da32"
      },
      "execution_count": 153,
      "outputs": [
        {
          "output_type": "stream",
          "name": "stdout",
          "text": [
            "+---------+----------+-----+\n",
            "|Purchased|prediction|count|\n",
            "+---------+----------+-----+\n",
            "|        1|       0.0|    8|\n",
            "|        0|       0.0|   50|\n",
            "|        1|       1.0|   26|\n",
            "+---------+----------+-----+\n",
            "\n"
          ]
        }
      ]
    },
    {
      "cell_type": "markdown",
      "source": [
        "# 2. Classification Using Random Forests"
      ],
      "metadata": {
        "id": "w-XUSONXd5nu"
      }
    },
    {
      "cell_type": "code",
      "source": [
        "random_forest = RandomForestClassifier(labelCol='indexedLabel', featuresCol='indexedFeatures', numTrees=50)\n",
        "labelConverter = IndexToString(inputCol='prediction', outputCol='predictedLabel', labels=labelIndexer.fit(data).labels)\n"
      ],
      "metadata": {
        "id": "ROXhODZsd8B5"
      },
      "execution_count": 154,
      "outputs": []
    },
    {
      "cell_type": "code",
      "source": [
        "pipeline2 = Pipeline(stages=[labelIndexer, featureIndexer, random_forest, labelConverter])"
      ],
      "metadata": {
        "id": "M4E28cRvfKm6"
      },
      "execution_count": 155,
      "outputs": []
    },
    {
      "cell_type": "code",
      "source": [
        "RandomForestsModel = pipeline2.fit(train_set)"
      ],
      "metadata": {
        "id": "Kjv3t7evidVD"
      },
      "execution_count": 156,
      "outputs": []
    },
    {
      "cell_type": "markdown",
      "source": [
        "## Evaluation for Random Forests Classifier"
      ],
      "metadata": {
        "id": "1RdQOATCiiyi"
      }
    },
    {
      "cell_type": "code",
      "source": [
        "rf_preds = RandomForestsModel.transform(test_set)"
      ],
      "metadata": {
        "id": "6annyIyQimFP"
      },
      "execution_count": 157,
      "outputs": []
    },
    {
      "cell_type": "code",
      "source": [
        "rf_preds.select('Age', 'EstimatedSalary', 'Purchased', 'predictedLabel').show(10, False)"
      ],
      "metadata": {
        "colab": {
          "base_uri": "https://localhost:8080/"
        },
        "id": "voCge4p2iu_p",
        "outputId": "310e747b-5a27-4d55-f32e-6ba5ff6e953f"
      },
      "execution_count": 158,
      "outputs": [
        {
          "output_type": "stream",
          "name": "stdout",
          "text": [
            "+---+---------------+---------+--------------+\n",
            "|Age|EstimatedSalary|Purchased|predictedLabel|\n",
            "+---+---------------+---------+--------------+\n",
            "|58 |95000          |1        |1             |\n",
            "|40 |71000          |1        |0             |\n",
            "|48 |131000         |1        |1             |\n",
            "|35 |73000          |0        |0             |\n",
            "|23 |63000          |0        |0             |\n",
            "|37 |74000          |0        |0             |\n",
            "|42 |90000          |1        |1             |\n",
            "|53 |104000         |1        |1             |\n",
            "|48 |119000         |1        |1             |\n",
            "|28 |59000          |0        |0             |\n",
            "+---+---------------+---------+--------------+\n",
            "only showing top 10 rows\n",
            "\n"
          ]
        }
      ]
    },
    {
      "cell_type": "code",
      "source": [
        "rf_eval = MulticlassClassificationEvaluator(labelCol='indexedLabel', predictionCol='prediction', metricName='accuracy')\n",
        "rf_acc = rf_eval.evaluate(rf_preds)\n",
        "print('Accuracy: ', rf_acc)"
      ],
      "metadata": {
        "colab": {
          "base_uri": "https://localhost:8080/"
        },
        "id": "HNHoPlOWizNC",
        "outputId": "50cfaa9f-204c-4b6b-ba8a-e2c418733bbd"
      },
      "execution_count": 159,
      "outputs": [
        {
          "output_type": "stream",
          "name": "stdout",
          "text": [
            "Accuracy:  0.9047619047619048\n"
          ]
        }
      ]
    },
    {
      "cell_type": "code",
      "source": [
        "rf_preds.groupBy('Purchased', 'prediction').count().show()"
      ],
      "metadata": {
        "colab": {
          "base_uri": "https://localhost:8080/"
        },
        "id": "L72U4JKxi8qE",
        "outputId": "1bdf857f-5a6f-4220-e778-6bf44563e39a"
      },
      "execution_count": 160,
      "outputs": [
        {
          "output_type": "stream",
          "name": "stdout",
          "text": [
            "+---------+----------+-----+\n",
            "|Purchased|prediction|count|\n",
            "+---------+----------+-----+\n",
            "|        1|       0.0|    6|\n",
            "|        0|       0.0|   48|\n",
            "|        1|       1.0|   28|\n",
            "|        0|       1.0|    2|\n",
            "+---------+----------+-----+\n",
            "\n"
          ]
        }
      ]
    },
    {
      "cell_type": "code",
      "source": [
        "print(RandomForestsModel.stages[2])"
      ],
      "metadata": {
        "colab": {
          "base_uri": "https://localhost:8080/"
        },
        "id": "ee0CHH16jFGY",
        "outputId": "0b6bdb4d-c261-42c2-8e81-2e239c40fe12"
      },
      "execution_count": 161,
      "outputs": [
        {
          "output_type": "stream",
          "name": "stdout",
          "text": [
            "RandomForestClassificationModel: uid=RandomForestClassifier_0170f4e3cba8, numTrees=50, numClasses=2, numFeatures=2\n"
          ]
        }
      ]
    }
  ]
}